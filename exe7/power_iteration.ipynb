{
 "cells": [
  {
   "cell_type": "code",
   "execution_count": 1,
   "metadata": {},
   "outputs": [],
   "source": [
    "import numpy as np\n",
    "\n",
    "def normalize(x):\n",
    "    idx = np.abs(x).argmax()\n",
    "    fac = x[idx]\n",
    "    x_n = x / fac\n",
    "    return fac, x_n\n",
    "\n",
    "def power_iteration(A, n, tol=1e-13, maxiter=100):\n",
    "    \"\"\"\n",
    "    Performs power iteration using max norm. Computes the eigenvector corresponding to the largest eigenvalue of a matrix.\n",
    "\n",
    "    Parameters\n",
    "    ----------\n",
    "    A : numpy.ndarray\n",
    "        The matrix to compute the eigenvector of\n",
    "    n : int\n",
    "        The size of the matrix\n",
    "    tol : float\n",
    "        The tolerance for the stopping criterion\n",
    "    maxiter : int\n",
    "        The maximum number of iterations\n",
    "\n",
    "    Returns\n",
    "    -------\n",
    "    float\n",
    "        The eigenvalue\n",
    "    numpy.ndarray\n",
    "        The eigenvector\n",
    "    \"\"\"\n",
    "    x = np.random.rand(n)\n",
    "    fac, x = normalize(x)\n",
    "    for i in range(maxiter):\n",
    "        x_new = np.dot(A, x)\n",
    "        fac, x_new = normalize(x_new)\n",
    "        if np.linalg.norm(x - x_new) < tol:\n",
    "            return fac, x_new\n",
    "        x = x_new\n",
    "    raise ValueError(\"Power iteration did not converge\")\n",
    "\n",
    "def inverse_iteration(A, n, offset, tol=1e-13, maxiter=1000):\n",
    "    \"\"\"\n",
    "    Performs inverse iteration using max norm. Computes the eigenvector corresponding to the smallest eigenvalue of a matrix. Can be used to compute the eigenvector corresponding to any eigenvalue by first offsetting the matrix.\n",
    "\n",
    "    Parameters\n",
    "    ----------\n",
    "    A : numpy.ndarray\n",
    "        The matrix to compute the eigenvector of\n",
    "    n : int\n",
    "        The size of the matrix\n",
    "    offset : float\n",
    "        The offset to apply to the matrix\n",
    "    tol : float\n",
    "        The tolerance for the stopping criterion\n",
    "    maxiter : int\n",
    "        The maximum number of iterations\n",
    "\n",
    "    Returns\n",
    "    -------\n",
    "    float\n",
    "        The eigenvalue\n",
    "    numpy.ndarray\n",
    "        The eigenvector\n",
    "    \"\"\"\n",
    "    x = np.random.rand(n)\n",
    "    fac, x = normalize(x)\n",
    "    for i in range(maxiter):\n",
    "        x_new = np.linalg.solve(A - offset * np.eye(n), x)\n",
    "        fac_new, x_new = normalize(x_new)\n",
    "        #print(x_new)\n",
    "        if np.abs(fac - fac_new) < tol:\n",
    "            print(i)\n",
    "            return 1/fac, x_new\n",
    "        x = x_new\n",
    "        fac = fac_new"
   ]
  },
  {
   "cell_type": "code",
   "execution_count": 8,
   "metadata": {},
   "outputs": [
    {
     "data": {
      "text/plain": [
       "'Eigenvalues:'"
      ]
     },
     "metadata": {},
     "output_type": "display_data"
    },
    {
     "data": {
      "text/plain": [
       "array([ 7.00330763,  1.88492837, -0.38823601])"
      ]
     },
     "metadata": {},
     "output_type": "display_data"
    },
    {
     "data": {
      "text/plain": [
       "'Eigenvectors:'"
      ]
     },
     "metadata": {},
     "output_type": "display_data"
    },
    {
     "data": {
      "text/plain": [
       "array([[-0.65597979, -0.5579224 , -0.5083435 ],\n",
       "       [-0.42322179,  0.8295505 , -0.36432031],\n",
       "       [-0.62495907,  0.02384471,  0.78029327]])"
      ]
     },
     "metadata": {},
     "output_type": "display_data"
    },
    {
     "name": "stdout",
     "output_type": "stream",
     "text": [
      "19\n"
     ]
    },
    {
     "data": {
      "text/plain": [
       "'Eigenvalue:'"
      ]
     },
     "metadata": {},
     "output_type": "display_data"
    },
    {
     "data": {
      "text/plain": [
       "-0.3882360088434148"
      ]
     },
     "metadata": {},
     "output_type": "display_data"
    },
    {
     "data": {
      "text/plain": [
       "'Eigenvector:'"
      ]
     },
     "metadata": {},
     "output_type": "display_data"
    },
    {
     "data": {
      "text/plain": [
       "array([-0.65147749, -0.46690177,  1.        ])"
      ]
     },
     "metadata": {},
     "output_type": "display_data"
    }
   ],
   "source": [
    "A = np.array(\n",
    "    [[2,1,3],\n",
    "     [1,1,2],\n",
    "     [3,2,1]])\n",
    "#ev, ex = np.linalg.eig(A)\n",
    "#display(\"Eigenvalues:\", ev)\n",
    "#display(\"Eigenvectors:\", ex)\n",
    "#ev, ex = power_iteration(A, 3)\n",
    "#display(\"Eigenvalue:\", ev)\n",
    "#display(\"Eigenvector:\", ex)\n",
    "A = A+1.5*np.eye(3)\n",
    "ev, ex = np.linalg.eig(A)\n",
    "display(\"Eigenvalues:\", ev)\n",
    "display(\"Eigenvectors:\", ex)\n",
    "\n",
    "ev, ex = inverse_iteration(A, 3, 0)\n",
    "display(\"Eigenvalue:\", ev)\n",
    "display(\"Eigenvector:\", ex)\n"
   ]
  }
 ],
 "metadata": {
  "kernelspec": {
   "display_name": "generic",
   "language": "python",
   "name": "python3"
  },
  "language_info": {
   "codemirror_mode": {
    "name": "ipython",
    "version": 3
   },
   "file_extension": ".py",
   "mimetype": "text/x-python",
   "name": "python",
   "nbconvert_exporter": "python",
   "pygments_lexer": "ipython3",
   "version": "3.10.13"
  }
 },
 "nbformat": 4,
 "nbformat_minor": 2
}
