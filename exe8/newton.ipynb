{
 "cells": [
  {
   "cell_type": "markdown",
   "metadata": {},
   "source": [
    "# Solving Non-linear equations\n",
    "___\n",
    "Newton's method"
   ]
  },
  {
   "cell_type": "code",
   "execution_count": 1,
   "metadata": {},
   "outputs": [],
   "source": [
    "import numpy as np"
   ]
  },
  {
   "cell_type": "markdown",
   "metadata": {},
   "source": [
    "We will implement newton's method for solving a system of non-linear equations. Newton'x method uses the Jacobian of a function to estimate the root of a function."
   ]
  },
  {
   "cell_type": "code",
   "execution_count": 2,
   "metadata": {},
   "outputs": [],
   "source": [
    "def newton(fun_grad, x0, max_iter, tol=1e-3, pgtol=1e-7):\n",
    "    x = x0\n",
    "    for i in range(max_iter):\n",
    "        fun, grad = fun_grad(x)\n",
    "        if np.sum(grad**2) < pgtol:\n",
    "            return x\n",
    "        y = np.linalg.solve(grad, fun)\n",
    "        #print(y)\n",
    "        if np.sum(y**2) < tol:\n",
    "            return x\n",
    "        x -= y\n",
    "    raise TimeoutError"
   ]
  },
  {
   "cell_type": "markdown",
   "metadata": {},
   "source": [
    "We will test our implementation on a toy problem of finding an intersection of two circles of radius 2, at a distance of 2. The exact solution should be $x = (0, \\sqrt{3})$."
   ]
  },
  {
   "cell_type": "code",
   "execution_count": 15,
   "metadata": {},
   "outputs": [],
   "source": [
    "def fun(x):\n",
    "    x, y = x\n",
    "    x_out = (x+1)**2 + y**2 - 4\n",
    "    y_out = (x-1)**2 + y**2 - 4\n",
    "    return np.array([x_out, y_out])\n",
    "\n",
    "def grad(x):\n",
    "    x, y = x\n",
    "    return np.array([\n",
    "        [2*(x+1), 2*y],\n",
    "        [2*(x-1), 2*y]\n",
    "    ])\n",
    "\n",
    "def fun_grad(x):\n",
    "    return fun(x), grad(x)"
   ]
  },
  {
   "cell_type": "code",
   "execution_count": 32,
   "metadata": {},
   "outputs": [
    {
     "name": "stdout",
     "output_type": "stream",
     "text": [
      "-0.0 1.732\n",
      "0 1.732\n"
     ]
    }
   ],
   "source": [
    "x0 = np.array([0.5, 0.5])\n",
    "x = newton(fun_grad, x0, max_iter=100, tol=1e-7, pgtol=1e-4)\n",
    "print(*(np.round(x, 3).tolist()))\n",
    "print(0, np.round(np.sqrt(3), 3))"
   ]
  },
  {
   "cell_type": "markdown",
   "metadata": {},
   "source": [
    "We will now look at the example of finding a local minimum using newton's method. This means we will be searching for root's of the gradient of a function."
   ]
  },
  {
   "cell_type": "code",
   "execution_count": 34,
   "metadata": {},
   "outputs": [],
   "source": [
    "def fun(x):\n",
    "    x, y = x\n",
    "    return (x-1)**2 + 2*(y-2)**2\n",
    "\n",
    "def grad(x):\n",
    "    x, y = x\n",
    "    return np.array([2*(x-1), 4*(y-2)])\n",
    "\n",
    "def hess(x):\n",
    "    return np.array([\n",
    "        [2, 0],\n",
    "        [0, 4]\n",
    "    ])\n",
    "\n",
    "def grad_hess(x):\n",
    "    return grad(x), hess(x)"
   ]
  },
  {
   "cell_type": "code",
   "execution_count": 37,
   "metadata": {},
   "outputs": [
    {
     "name": "stdout",
     "output_type": "stream",
     "text": [
      "1.0 2.0\n"
     ]
    }
   ],
   "source": [
    "x0 = np.array([0.5, 0.5])\n",
    "x = newton(grad_hess, x0, max_iter=2, tol=1e-7, pgtol=1e-4)\n",
    "print(*(np.round(x, 3).tolist()))"
   ]
  },
  {
   "cell_type": "markdown",
   "metadata": {},
   "source": [
    "Since the hessian is constant in this example, the newton method finds the local minimum in one iteration."
   ]
  }
 ],
 "metadata": {
  "kernelspec": {
   "display_name": "generic",
   "language": "python",
   "name": "python3"
  },
  "language_info": {
   "codemirror_mode": {
    "name": "ipython",
    "version": 3
   },
   "file_extension": ".py",
   "mimetype": "text/x-python",
   "name": "python",
   "nbconvert_exporter": "python",
   "pygments_lexer": "ipython3",
   "version": "3.10.13"
  }
 },
 "nbformat": 4,
 "nbformat_minor": 2
}
