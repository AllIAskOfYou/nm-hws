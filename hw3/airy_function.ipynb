{
 "cells": [
  {
   "cell_type": "markdown",
   "metadata": {},
   "source": [
    "# Airy function\n",
    "---\n",
    "*Numerical Methods - homework 3,\n",
    "Matic Šutar, ms4861@student.uni-lj.si*"
   ]
  },
  {
   "cell_type": "markdown",
   "metadata": {},
   "source": [
    "## Formulating the problem"
   ]
  },
  {
   "cell_type": "markdown",
   "metadata": {},
   "source": [
    "Airy function is defined as a solution to the following differential equation:\n",
    "\n",
    "$x''(t) - t\\cdot x(t) = 0$\n",
    "\n",
    "$x(0) = (3^{\\frac{2}{3}}\\Gamma(\\frac{2}{3}))^{-1}$\n",
    "\n",
    "$x'(0) = -(3^{\\frac{1}{3}}\\Gamma(\\frac{1}{3}))^{-1}$\n",
    "\n",
    "We will be solving this DE using the Magnus method of order 4."
   ]
  },
  {
   "cell_type": "markdown",
   "metadata": {},
   "source": [
    "## Transforming the problem"
   ]
  },
  {
   "cell_type": "markdown",
   "metadata": {},
   "source": [
    "Before applying the method, we will transform the DE into a system of first order DEs:\n",
    "\n",
    "Introduce new functions:\n",
    "\n",
    "$y_1(t) = x(t)$\n",
    "\n",
    "$y_2(t) = x'(t)$\n",
    "\n",
    "Write the system:\n",
    "\n",
    "$y_1'(t) = y_2(t)$\n",
    "\n",
    "$y_2'(t) = t\\cdot y_1(t)$\n",
    "\n",
    "System matrix:\n",
    "\n",
    "$A(t) = \\begin{bmatrix}\n",
    "0 & 1 \\\\\n",
    "t & 0\n",
    "\\end{bmatrix}$\n"
   ]
  },
  {
   "cell_type": "markdown",
   "metadata": {},
   "source": [
    "## Implementation"
   ]
  },
  {
   "cell_type": "markdown",
   "metadata": {},
   "source": [
    "In our implementation, we decided to mirror the Airy function, so that all the zeros are positive.\n",
    "\n",
    "The new system matrix becomes:\n",
    "\n",
    "$A^*(t) = A(-t)$\n",
    "\n",
    "and the initial condition for the derivative changes the sign.\n",
    "\n",
    "This was just for conevnience of the implementation."
   ]
  },
  {
   "cell_type": "code",
   "execution_count": 1,
   "metadata": {},
   "outputs": [],
   "source": [
    "import numpy as np\n",
    "from scipy.linalg import expm\n",
    "from scipy.special import gamma\n",
    "from scipy.special import ai_zeros"
   ]
  },
  {
   "cell_type": "code",
   "execution_count": 2,
   "metadata": {},
   "outputs": [],
   "source": [
    "# System matrix\n",
    "def compute_A(t):\n",
    "    return np.array([[0, 1],[-t, 0]])\n",
    "\n",
    "# Initial conditions\n",
    "Ai_0 = 1 / (3**(2/3) * gamma(2/3))\n",
    "Ai_star_0 = 1 / (3**(1/3) * gamma(1/3))\n",
    "y0 = np.array([Ai_0, Ai_star_0])\n",
    "t = 0"
   ]
  },
  {
   "cell_type": "markdown",
   "metadata": {},
   "source": [
    "### Computing function values"
   ]
  },
  {
   "cell_type": "code",
   "execution_count": 3,
   "metadata": {},
   "outputs": [],
   "source": [
    "def magnus_method_step(x, y, A_fun, h):\n",
    "    \"\"\"\n",
    "    Perform a single step of the Magnus integration method for solving systems of linear differential equations..\n",
    "\n",
    "    Parameters\n",
    "    ----------\n",
    "    x : float\n",
    "        Current point in the independent variable.\n",
    "    y : ndarray\n",
    "        Current point in the dependent variable(s).\n",
    "    A_fun : callable\n",
    "        Function that computes the matrix A at a given point in the independent variable.\n",
    "    h : float\n",
    "        Step size for the integration.\n",
    "\n",
    "    Returns\n",
    "    -------\n",
    "    ndarray\n",
    "        Updated point in the dependent variable(s) after performing the integration step.\n",
    "    \"\"\"\n",
    "    \n",
    "    A1 = A_fun(x + (1/2 - np.sqrt(3)/6)*h)\n",
    "    A2 = A_fun(x + (1/2 + np.sqrt(3)/6)*h)\n",
    "    sigma = (h/2)*(A1+A2) - (np.sqrt(3)/12)*(h**2)*(A1@A2 - A2@A1)\n",
    "    return np.dot(expm(sigma), y)"
   ]
  },
  {
   "cell_type": "code",
   "execution_count": 4,
   "metadata": {},
   "outputs": [],
   "source": [
    "def magnus_method_optimal_step(x, y, A_fun, h0=1e-1, tol=1e-10):\n",
    "    \"\"\"\n",
    "    Perform a single step of the Magnus integration method for solving systems of linear differential equations with adaptive step size.\n",
    "\n",
    "    Parameters\n",
    "    ----------\n",
    "    x : float\n",
    "        Current point in the independent variable.\n",
    "    y : ndarray\n",
    "        Current point in the dependent variable(s).\n",
    "    A_fun : callable\n",
    "        Function that computes the matrix A at a given point in the independent variable.\n",
    "    h0 : float, optional\n",
    "        Initial step size for the integration.\n",
    "    tol : float, optional\n",
    "        Tolerance for the local error.\n",
    "\n",
    "    Returns\n",
    "    -------\n",
    "    ndarray\n",
    "        Updated point in the dependent variable(s) after performing the integration step.\n",
    "    float\n",
    "        Optimal step size for the next integration step.\n",
    "    \"\"\"\n",
    "    \n",
    "    h = h0\n",
    "    y_full = magnus_method_step(x, y, A_fun, h)\n",
    "    while True:\n",
    "        # Compute the solution with half the step size\n",
    "        y_half_1 = magnus_method_step(x, y, A_fun, h/2)\n",
    "        y_half_2 = magnus_method_step(x + h/2, y_half_1, A_fun, h/2)\n",
    "        \n",
    "        # Estimate the local error\n",
    "        l = np.abs(y_full[0] - y_half_2[0])\n",
    "        \n",
    "        # Check if the estimated error is within the tolerance\n",
    "        if l < tol:\n",
    "            break\n",
    "        \n",
    "        # Compute new step size based on the error\n",
    "        h = 0.9 * h * (tol / l)**(1/4)\n",
    "        \n",
    "        # Compute the solution with the new step size\n",
    "        y_full = magnus_method_step(x, y, A_fun, h)\n",
    "    \n",
    "    return y_full, h\n"
   ]
  },
  {
   "cell_type": "markdown",
   "metadata": {},
   "source": [
    "Now we will compute the values of Airy function until we observe the desired number of zeros (or reach the maximum number of steps)."
   ]
  },
  {
   "cell_type": "code",
   "execution_count": 5,
   "metadata": {},
   "outputs": [
    {
     "data": {
      "text/plain": [
       "(2109, 2)"
      ]
     },
     "execution_count": 5,
     "metadata": {},
     "output_type": "execute_result"
    }
   ],
   "source": [
    "max_steps = 50000   # Maximum number of steps\n",
    "lim = 10            # Number of zeros to find (for lim=500, it takes less than 1 minute)\n",
    "tol = 1e-13         # Tolerance for the local error\n",
    "\n",
    "h = 1e-1\n",
    "values = [y0]\n",
    "ts = [t]\n",
    "hs = []\n",
    "y = y0\n",
    "zeros_count = 0\n",
    "\n",
    "while len(values) < max_steps:\n",
    "    y, h = magnus_method_optimal_step(t, y, compute_A, h0=h, tol=tol)\n",
    "    t += h            \n",
    "    values.append(y)\n",
    "    hs.append(h)\n",
    "    ts.append(t)\n",
    "\n",
    "    # Check if the solution has crossed zero\n",
    "    if values[-1][0] == 0 or values[-1][0]*values[-2][0] < 0:\n",
    "        zeros_count += 1\n",
    "        if zeros_count >= lim:\n",
    "            break\n",
    "\n",
    "values = np.array(values)\n",
    "ts = np.array(ts)\n",
    "hs = np.array(hs)\n",
    "values.shape"
   ]
  },
  {
   "cell_type": "markdown",
   "metadata": {},
   "source": [
    "### Extracting and refining the zeros"
   ]
  },
  {
   "cell_type": "markdown",
   "metadata": {},
   "source": [
    "We can now extract the intervals for zeros by identifying the changes in the sign of the values."
   ]
  },
  {
   "cell_type": "code",
   "execution_count": 6,
   "metadata": {},
   "outputs": [
    {
     "name": "stdout",
     "output_type": "stream",
     "text": [
      "Found 10 zeros\n"
     ]
    }
   ],
   "source": [
    "# Find zeros intervals\n",
    "pos = values[:, 0] > 0\n",
    "idx = np.where(pos[:-1] != pos[1:])[0]\n",
    "n = len(idx)\n",
    "print(f\"Found {n} zeros\")"
   ]
  },
  {
   "cell_type": "markdown",
   "metadata": {},
   "source": [
    "After obtaining the intervals for zeros, we will find the zeros using a variation of newton method for DEs."
   ]
  },
  {
   "cell_type": "code",
   "execution_count": 7,
   "metadata": {},
   "outputs": [],
   "source": [
    "def newton_raphson_method(x, y, tol=1e-10, max_iter=100):\n",
    "    \"\"\"\n",
    "    Find the root of a function using the Newton-Raphson method.\n",
    "\n",
    "    Parameters\n",
    "    ----------\n",
    "    x : float\n",
    "        Initial guess for the root.\n",
    "    y : ndarray\n",
    "        Initial value of the function and its derivative.\n",
    "    tol : float, optional\n",
    "        Tolerance for the root.\n",
    "    max_iter : int, optional\n",
    "        Maximum number of iterations.\n",
    "\n",
    "    Returns\n",
    "    -------\n",
    "    float\n",
    "        The root of the function.\n",
    "    \"\"\"\n",
    "\n",
    "    for i in range(max_iter):\n",
    "        dx = -y[0] / y[1]\n",
    "        x += dx\n",
    "        if np.abs(dx) < tol:\n",
    "            break\n",
    "        y = magnus_method_step(x, y, compute_A, dx)\n",
    "    return x"
   ]
  },
  {
   "cell_type": "code",
   "execution_count": 8,
   "metadata": {},
   "outputs": [],
   "source": [
    "# Increase the number of digits to show the zeros to a higher precision\n",
    "np.set_printoptions(formatter={'float': lambda x: \"{0:0.10f}\".format(x)})"
   ]
  },
  {
   "cell_type": "code",
   "execution_count": 9,
   "metadata": {},
   "outputs": [],
   "source": [
    "# Iterate over the intervals, and exactly determine the zeros using the Newton-Raphson method\n",
    "zeros = []\n",
    "for i in idx:\n",
    "    zero = newton_raphson_method(ts[i], values[i], tol=1e-12)\n",
    "    zeros.append(zero)\n",
    "    \n",
    "# Negate the zeros since we mirrored the function in the definition\n",
    "fun_zeros = -np.array(zeros)"
   ]
  },
  {
   "cell_type": "markdown",
   "metadata": {},
   "source": [
    "### Validation"
   ]
  },
  {
   "cell_type": "markdown",
   "metadata": {},
   "source": [
    "Now we confirm that the zeros are correctly computed up to at least 10 decimal places (in terms of relative error)."
   ]
  },
  {
   "cell_type": "code",
   "execution_count": 10,
   "metadata": {},
   "outputs": [
    {
     "data": {
      "text/plain": [
       "array([0.0000000000, 0.0000000000, 0.0000000001, 0.0000000000,\n",
       "       0.0000000000, 0.0000000000, 0.0000000000, 0.0000000000,\n",
       "       0.0000000000, 0.0000000000])"
      ]
     },
     "execution_count": 10,
     "metadata": {},
     "output_type": "execute_result"
    }
   ],
   "source": [
    "np.abs((fun_zeros - ai_zeros(n)[0]) / ai_zeros(n)[0])"
   ]
  },
  {
   "cell_type": "code",
   "execution_count": 11,
   "metadata": {},
   "outputs": [
    {
     "data": {
      "image/png": "[encoded data removed]",
      "text/plain": [
       "<Figure size 640x480 with 1 Axes>"
      ]
     },
     "metadata": {},
     "output_type": "display_data"
    }
   ],
   "source": [
    "# Plot values\n",
    "import matplotlib.pyplot as plt\n",
    "\n",
    "fun_values = values[:, 0]\n",
    "plt.plot(-ts, fun_values)\n",
    "\n",
    "for zero in fun_zeros:\n",
    "    plt.axvline(zero, color='r', linestyle='--')\n",
    "    # add text\n",
    "    plt.text(zero, 0, f'{zero:.2f}', rotation=90)\n",
    "plt.xlabel(\"t\")\n",
    "plt.ylabel(\"Ai\")\n",
    "plt.show()"
   ]
  },
  {
   "cell_type": "code",
   "execution_count": null,
   "metadata": {},
   "outputs": [],
   "source": []
  }
 ],
 "metadata": {
  "kernelspec": {
   "display_name": "generic",
   "language": "python",
   "name": "python3"
  },
  "language_info": {
   "codemirror_mode": {
    "name": "ipython",
    "version": 3
   },
   "file_extension": ".py",
   "mimetype": "text/x-python",
   "name": "python",
   "nbconvert_exporter": "python",
   "pygments_lexer": "ipython3",
   "version": "3.10.13"
  }
 },
 "nbformat": 4,
 "nbformat_minor": 2
}
